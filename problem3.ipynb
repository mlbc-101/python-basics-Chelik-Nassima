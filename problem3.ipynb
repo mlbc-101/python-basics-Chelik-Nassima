{
 "cells": [
  {
   "cell_type": "code",
   "execution_count": 7,
   "metadata": {},
   "outputs": [
    {
     "name": "stdout",
     "output_type": "stream",
     "text": [
      "Enter a number: 5\n",
      "Enter b number: 4\n",
      "Enter c number: 1\n",
      "d :  -4\n",
      "no solution\n"
     ]
    }
   ],
   "source": [
    "# Solve the quadratic equation ax**2 + bx + c = 0\n",
    "# import complex math module\n",
    "import cmath\n",
    "a = int(input('Enter a number: '))\n",
    "b = int(input('Enter b number: '))\n",
    "c = int(input('Enter c number: '))\n",
    "# calculate the discriminant\n",
    "d =(b**2)-(4*a*c)\n",
    "print(\"d : \",str(d))\n",
    "if(d<0):\n",
    "    print(\"no solution\")\n",
    "elif(d==0):\n",
    "    sol1= -b/2*a\n",
    "    print('Multip solution '.format(sol1))\n",
    "elif(d>0):\n",
    "    # find two solutions\n",
    "    sol1 = (-b-cmath.sqrt(d))/(2*a)\n",
    "    sol2 = (-b+cmath.sqrt(d))/(2*a)\n",
    "    print('The solution are {0} and {1}'.format(sol1,sol2))"
   ]
  },
  {
   "cell_type": "code",
   "execution_count": null,
   "metadata": {},
   "outputs": [],
   "source": []
  }
 ],
 "metadata": {
  "kernelspec": {
   "display_name": "Python 3",
   "language": "python",
   "name": "python3"
  },
  "language_info": {
   "codemirror_mode": {
    "name": "ipython",
    "version": 3
   },
   "file_extension": ".py",
   "mimetype": "text/x-python",
   "name": "python",
   "nbconvert_exporter": "python",
   "pygments_lexer": "ipython3",
   "version": "3.7.3"
  }
 },
 "nbformat": 4,
 "nbformat_minor": 2
}
